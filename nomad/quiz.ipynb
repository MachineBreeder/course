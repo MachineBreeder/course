{
 "cells": [
  {
   "cell_type": "markdown",
   "metadata": {},
   "source": [
    "### Assignment 3"
   ]
  },
  {
   "cell_type": "code",
   "execution_count": 1,
   "metadata": {},
   "outputs": [
    {
     "name": "stdout",
     "output_type": "stream",
     "text": [
      "Your tax bill is: $8316000.0\n"
     ]
    }
   ],
   "source": [
    "# monthly_revenue 받고 revenue for a year 리턴\n",
    "def get_yearly_revenue(monthly_revenue):\n",
    "    revenue_for_a_year = monthly_revenue * 12\n",
    "    return revenue_for_a_year\n",
    "\n",
    "# monthly_expenses 받고 expenses for a year 리턴\n",
    "def get_yearly_expenses(monthly_expenses):\n",
    "    expenses_for_a_year = monthly_expenses * 12\n",
    "    return  expenses_for_a_year\n",
    "\n",
    "# profit 받고 tax_amount 리턴\n",
    "# if profit > 100,000, tax 25%\n",
    "# else, tax 15%\n",
    "def get_tax_amount(profit):\n",
    "    if profit > 100000:\n",
    "        tax_amount = profit * 0.25\n",
    "        return tax_amount\n",
    "    else:\n",
    "        tax_amount = profit * 0.15\n",
    "        return tax_amount\n",
    "\n",
    "# tax_amount, tax_credits 받고 amount to discount 리턴\n",
    "def apply_tax_credits(tax_amount, tax_credits):\n",
    "    amount_to_discount = tax_amount * tax_credits\n",
    "    return amount_to_discount\n",
    "\n",
    "# BLUEPRINT | DONT EDIT\n",
    "\n",
    "monthly_revenue = 5500000\n",
    "monthly_expenses = 2700000\n",
    "tax_credits = 0.01\n",
    "\n",
    "yearly_revenue = get_yearly_revenue(monthly_revenue)\n",
    "yearly_expenses = get_yearly_expenses(monthly_expenses)\n",
    "\n",
    "profit = yearly_revenue - yearly_expenses\n",
    "\n",
    "tax_amount = get_tax_amount(profit)\n",
    "\n",
    "final_tax_amount = tax_amount - apply_tax_credits(tax_amount, tax_credits)\n",
    "\n",
    "print(f\"Your tax bill is: ${final_tax_amount}\")\n",
    "\n",
    "# /BLUEPRINT"
   ]
  },
  {
   "cell_type": "markdown",
   "metadata": {},
   "source": [
    "### Assignment 4"
   ]
  },
  {
   "cell_type": "code",
   "execution_count": 2,
   "metadata": {},
   "outputs": [
    {
     "name": "stdout",
     "output_type": "stream",
     "text": [
      "Result :  3\n"
     ]
    }
   ],
   "source": [
    "while True:\n",
    "    num_1 = input(\"Chose a number : \")\n",
    "    num_2 = input(\"Chose another one : \")\n",
    "    oper = input(\"Chose an operation : \\n\"\n",
    "                 \"Options are : + , - , * , or /.\\n\"\n",
    "                 \"Write 'exit' to finish.\")\n",
    "    \n",
    "    if oper == 'exit':\n",
    "        break\n",
    "    \n",
    "    print(\"Result : \", eval(f\"{num_1} {oper} {num_2}\"))"
   ]
  },
  {
   "cell_type": "markdown",
   "metadata": {},
   "source": []
  },
  {
   "cell_type": "code",
   "execution_count": null,
   "metadata": {},
   "outputs": [],
   "source": []
  }
 ],
 "metadata": {
  "kernelspec": {
   "display_name": "nomad",
   "language": "python",
   "name": "python3"
  },
  "language_info": {
   "codemirror_mode": {
    "name": "ipython",
    "version": 3
   },
   "file_extension": ".py",
   "mimetype": "text/x-python",
   "name": "python",
   "nbconvert_exporter": "python",
   "pygments_lexer": "ipython3",
   "version": "3.12.6"
  }
 },
 "nbformat": 4,
 "nbformat_minor": 2
}
