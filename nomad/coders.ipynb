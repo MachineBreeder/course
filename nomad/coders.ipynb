{
 "cells": [
  {
   "cell_type": "markdown",
   "metadata": {},
   "source": [
    "### Python으로 웹 스크래퍼 만들기\n",
    "\n",
    "<h6><ul> - WeWorkRemotely </ul>"
   ]
  },
  {
   "cell_type": "code",
   "execution_count": 1,
   "metadata": {},
   "outputs": [
    {
     "name": "stdout",
     "output_type": "stream",
     "text": [
      "Requirement already satisfied: requests in c:\\users\\asus\\anaconda3\\envs\\course\\lib\\site-packages (2.32.3)\n",
      "Requirement already satisfied: charset-normalizer<4,>=2 in c:\\users\\asus\\anaconda3\\envs\\course\\lib\\site-packages (from requests) (3.4.0)\n",
      "Requirement already satisfied: idna<4,>=2.5 in c:\\users\\asus\\anaconda3\\envs\\course\\lib\\site-packages (from requests) (3.10)\n",
      "Requirement already satisfied: urllib3<3,>=1.21.1 in c:\\users\\asus\\anaconda3\\envs\\course\\lib\\site-packages (from requests) (2.2.3)\n",
      "Requirement already satisfied: certifi>=2017.4.17 in c:\\users\\asus\\anaconda3\\envs\\course\\lib\\site-packages (from requests) (2024.8.30)\n",
      "Note: you may need to restart the kernel to use updated packages.\n"
     ]
    }
   ],
   "source": [
    "%pip install requests"
   ]
  },
  {
   "cell_type": "code",
   "execution_count": 2,
   "metadata": {},
   "outputs": [
    {
     "name": "stdout",
     "output_type": "stream",
     "text": [
      "Requirement already satisfied: beautifulsoup4 in c:\\users\\asus\\anaconda3\\envs\\course\\lib\\site-packages (4.12.3)\n",
      "Requirement already satisfied: soupsieve>1.2 in c:\\users\\asus\\anaconda3\\envs\\course\\lib\\site-packages (from beautifulsoup4) (2.6)\n",
      "Note: you may need to restart the kernel to use updated packages.\n"
     ]
    }
   ],
   "source": [
    "%pip install beautifulsoup4"
   ]
  },
  {
   "cell_type": "code",
   "execution_count": 47,
   "metadata": {},
   "outputs": [
    {
     "name": "stdout",
     "output_type": "stream",
     "text": [
      "Collecting selenium\n",
      "  Downloading selenium-4.25.0-py3-none-any.whl.metadata (7.1 kB)\n",
      "Requirement already satisfied: urllib3<3,>=1.26 in c:\\users\\asus\\anaconda3\\envs\\course\\lib\\site-packages (from urllib3[socks]<3,>=1.26->selenium) (2.2.3)\n",
      "Collecting trio~=0.17 (from selenium)\n",
      "  Downloading trio-0.26.2-py3-none-any.whl.metadata (8.6 kB)\n",
      "Collecting trio-websocket~=0.9 (from selenium)\n",
      "  Downloading trio_websocket-0.11.1-py3-none-any.whl.metadata (4.7 kB)\n",
      "Requirement already satisfied: certifi>=2021.10.8 in c:\\users\\asus\\anaconda3\\envs\\course\\lib\\site-packages (from selenium) (2024.8.30)\n",
      "Requirement already satisfied: typing_extensions~=4.9 in c:\\users\\asus\\anaconda3\\envs\\course\\lib\\site-packages (from selenium) (4.12.2)\n",
      "Collecting websocket-client~=1.8 (from selenium)\n",
      "  Downloading websocket_client-1.8.0-py3-none-any.whl.metadata (8.0 kB)\n",
      "Collecting attrs>=23.2.0 (from trio~=0.17->selenium)\n",
      "  Downloading attrs-24.2.0-py3-none-any.whl.metadata (11 kB)\n",
      "Collecting sortedcontainers (from trio~=0.17->selenium)\n",
      "  Downloading sortedcontainers-2.4.0-py2.py3-none-any.whl.metadata (10 kB)\n",
      "Requirement already satisfied: idna in c:\\users\\asus\\anaconda3\\envs\\course\\lib\\site-packages (from trio~=0.17->selenium) (3.10)\n",
      "Collecting outcome (from trio~=0.17->selenium)\n",
      "  Downloading outcome-1.3.0.post0-py2.py3-none-any.whl.metadata (2.6 kB)\n",
      "Collecting sniffio>=1.3.0 (from trio~=0.17->selenium)\n",
      "  Downloading sniffio-1.3.1-py3-none-any.whl.metadata (3.9 kB)\n",
      "Collecting cffi>=1.14 (from trio~=0.17->selenium)\n",
      "  Downloading cffi-1.17.1-cp312-cp312-win_amd64.whl.metadata (1.6 kB)\n",
      "Collecting wsproto>=0.14 (from trio-websocket~=0.9->selenium)\n",
      "  Downloading wsproto-1.2.0-py3-none-any.whl.metadata (5.6 kB)\n",
      "Collecting pysocks!=1.5.7,<2.0,>=1.5.6 (from urllib3[socks]<3,>=1.26->selenium)\n",
      "  Downloading PySocks-1.7.1-py3-none-any.whl.metadata (13 kB)\n",
      "Collecting pycparser (from cffi>=1.14->trio~=0.17->selenium)\n",
      "  Downloading pycparser-2.22-py3-none-any.whl.metadata (943 bytes)\n",
      "Collecting h11<1,>=0.9.0 (from wsproto>=0.14->trio-websocket~=0.9->selenium)\n",
      "  Downloading h11-0.14.0-py3-none-any.whl.metadata (8.2 kB)\n",
      "Downloading selenium-4.25.0-py3-none-any.whl (9.7 MB)\n",
      "   ---------------------------------------- 0.0/9.7 MB ? eta -:--:--\n",
      "   ------ --------------------------------- 1.6/9.7 MB 41.0 MB/s eta 0:00:01\n",
      "   -------------- ------------------------- 3.4/9.7 MB 9.1 MB/s eta 0:00:01\n",
      "   -------------- ------------------------- 3.4/9.7 MB 9.1 MB/s eta 0:00:01\n",
      "   --------------------- ------------------ 5.2/9.7 MB 6.8 MB/s eta 0:00:01\n",
      "   --------------------- ------------------ 5.2/9.7 MB 6.8 MB/s eta 0:00:01\n",
      "   --------------------- ------------------ 5.2/9.7 MB 6.8 MB/s eta 0:00:01\n",
      "   --------------------- ------------------ 5.2/9.7 MB 6.8 MB/s eta 0:00:01\n",
      "   ----------------------------- ---------- 7.1/9.7 MB 4.4 MB/s eta 0:00:01\n",
      "   ------------------------------------ --- 8.9/9.7 MB 4.6 MB/s eta 0:00:01\n",
      "   ------------------------------------ --- 8.9/9.7 MB 4.6 MB/s eta 0:00:01\n",
      "   ------------------------------------ --- 8.9/9.7 MB 4.6 MB/s eta 0:00:01\n",
      "   ------------------------------------ --- 8.9/9.7 MB 4.6 MB/s eta 0:00:01\n",
      "   ---------------------------------------- 9.7/9.7 MB 3.6 MB/s eta 0:00:00\n",
      "Downloading trio-0.26.2-py3-none-any.whl (475 kB)\n",
      "Downloading trio_websocket-0.11.1-py3-none-any.whl (17 kB)\n",
      "Downloading websocket_client-1.8.0-py3-none-any.whl (58 kB)\n",
      "Downloading attrs-24.2.0-py3-none-any.whl (63 kB)\n",
      "Downloading cffi-1.17.1-cp312-cp312-win_amd64.whl (181 kB)\n",
      "Downloading PySocks-1.7.1-py3-none-any.whl (16 kB)\n",
      "Downloading sniffio-1.3.1-py3-none-any.whl (10 kB)\n",
      "Downloading wsproto-1.2.0-py3-none-any.whl (24 kB)\n",
      "Downloading outcome-1.3.0.post0-py2.py3-none-any.whl (10 kB)\n",
      "Downloading sortedcontainers-2.4.0-py2.py3-none-any.whl (29 kB)\n",
      "Downloading h11-0.14.0-py3-none-any.whl (58 kB)\n",
      "Downloading pycparser-2.22-py3-none-any.whl (117 kB)\n",
      "Installing collected packages: sortedcontainers, websocket-client, sniffio, pysocks, pycparser, h11, attrs, wsproto, outcome, cffi, trio, trio-websocket, selenium\n",
      "Successfully installed attrs-24.2.0 cffi-1.17.1 h11-0.14.0 outcome-1.3.0.post0 pycparser-2.22 pysocks-1.7.1 selenium-4.25.0 sniffio-1.3.1 sortedcontainers-2.4.0 trio-0.26.2 trio-websocket-0.11.1 websocket-client-1.8.0 wsproto-1.2.0\n",
      "Note: you may need to restart the kernel to use updated packages.\n"
     ]
    }
   ],
   "source": [
    "%pip install selenium"
   ]
  },
  {
   "cell_type": "code",
   "execution_count": 1,
   "metadata": {},
   "outputs": [
    {
     "data": {
      "text/plain": [
       "<Response [200]>"
      ]
     },
     "execution_count": 1,
     "metadata": {},
     "output_type": "execute_result"
    }
   ],
   "source": [
    "'''\n",
    "import requests as rq\n",
    "\n",
    "wwr_url = \"https://weworkremotely.com/categories/remote-full-stack-programming-jobs#job-listings\"\n",
    "\n",
    "wwr_response = rq.get(wwr_url)\n",
    "\n",
    "wwr_response\n",
    "'''"
   ]
  },
  {
   "cell_type": "code",
   "execution_count": 2,
   "metadata": {},
   "outputs": [],
   "source": [
    "'''\n",
    "from bs4 import BeautifulSoup as bs\n",
    "\n",
    "soup = bs(wwr_response.content, \"html.parser\")\n",
    "'''"
   ]
  },
  {
   "cell_type": "code",
   "execution_count": 3,
   "metadata": {},
   "outputs": [
    {
     "data": {
      "text/plain": [
       "[<li class=\"feature\"><span class=\"new\">New</span><div class=\"highlight-bar\"></div><div class=\"tooltip--flag-logo\"><a href=\"/company/contra\"><div alt=\"Contra is hiring a remote Webflow Developer at We Work Remotely.\" class=\"flag-logo\" loading=\"lazy\" style=\"background-image:url(https://we-work-remotely.imgix.net/logos/0083/5744/logo.gif?ixlib=rails-4.0.0&amp;w=50&amp;h=50&amp;dpr=2&amp;fit=fill&amp;auto=compress)\"></div><span class=\"tooltiptext\">View Company Profile</span></a></div><a href=\"/remote-jobs/contra-webflow-developer\"><span class=\"company\">Contra</span><object><a href=\"/top-remote-companies\" style=\"display: inline-block;\"><span class=\"listing-pill\" style=\"background: #dde0f4;\">Top 100</span></a></object><br/><span class=\"title\">Webflow Developer</span><div class=\"position-absolute listing-date\"><span class=\"listing-date__featured\">featured</span><span class=\"listing-date__date\">6h</span></div><br/><span class=\"company\">Contract</span><span>/</span><span class=\"region company\">Anywhere in the World</span></a></li>,\n",
       " <li class=\"feature\"><span class=\"new\">New</span><div class=\"highlight-bar\"></div><div class=\"tooltip--flag-logo\"><a href=\"/company/lemon-io\"><div alt=\"Lemon.io is hiring a remote Senior Android Developer (start - ASAP) at We Work Remotely.\" class=\"flag-logo\" loading=\"lazy\" style=\"background-image:url(https://we-work-remotely.imgix.net/logos/0076/3337/logo.gif?ixlib=rails-4.0.0&amp;w=50&amp;h=50&amp;dpr=2&amp;fit=fill&amp;auto=compress)\"></div><span class=\"tooltiptext\">View Company Profile</span></a></div><a href=\"/remote-jobs/lemon-io-senior-android-developer-start-asap\"><span class=\"company\">Lemon.io</span><object><a href=\"/top-remote-companies\" style=\"display: inline-block;\"><span class=\"listing-pill\" style=\"background: #dde0f4;\">Top 100</span></a></object><br/><span class=\"title\">Senior Android Developer (start - ASAP)</span><div class=\"position-absolute listing-date\"><span class=\"listing-date__featured\">featured</span><span class=\"listing-date__date\">4d</span></div><br/><span class=\"company\">Full-Time</span><span>/</span><span class=\"region company\">Latin America Only/Europe Only/UK Only/Canada Only/Asia Only/Oceania Only</span></a></li>,\n",
       " <li class=\"feature\"><span class=\"new\">New</span><div class=\"highlight-bar\"></div><div class=\"tooltip--flag-logo\"><a href=\"/company/lemon-io\"><div alt=\"Lemon.io is hiring a remote Senior iOS Developer (start - ASAP) at We Work Remotely.\" class=\"flag-logo\" loading=\"lazy\" style=\"background-image:url(https://we-work-remotely.imgix.net/logos/0076/3337/logo.gif?ixlib=rails-4.0.0&amp;w=50&amp;h=50&amp;dpr=2&amp;fit=fill&amp;auto=compress)\"></div><span class=\"tooltiptext\">View Company Profile</span></a></div><a href=\"/remote-jobs/lemon-io-senior-ios-developer-start-asap\"><span class=\"company\">Lemon.io</span><object><a href=\"/top-remote-companies\" style=\"display: inline-block;\"><span class=\"listing-pill\" style=\"background: #dde0f4;\">Top 100</span></a></object><br/><span class=\"title\">Senior iOS Developer (start - ASAP)</span><div class=\"position-absolute listing-date\"><span class=\"listing-date__featured\">featured</span><span class=\"listing-date__date\">4d</span></div><br/><span class=\"company\">Full-Time</span><span>/</span><span class=\"region company\">Latin America Only/Europe Only/UK Only/Canada Only/Asia Only/Oceania Only</span></a></li>,\n",
       " <li class=\"feature\"><span class=\"new\">New</span><div class=\"highlight-bar\"></div><div class=\"tooltip--flag-logo\"><a href=\"/company/loop-hq-inc\"><div alt=\"Loop HQ Inc. is hiring a remote Lead Software Engineer at We Work Remotely.\" class=\"flag-logo\" loading=\"lazy\" style=\"background-image:url(https://we-work-remotely.imgix.net/logos/0155/0931/logo.gif?ixlib=rails-4.0.0&amp;w=50&amp;h=50&amp;dpr=2&amp;fit=fill&amp;auto=compress)\"></div><span class=\"tooltiptext\">View Company Profile</span></a></div><a href=\"/remote-jobs/loop-hq-inc-lead-software-engineer\"><span class=\"company\">Loop HQ Inc.</span><br/><span class=\"title\">Lead Software Engineer</span><div class=\"position-absolute listing-date\"><span class=\"listing-date__featured\">featured</span><span class=\"listing-date__date\">4d</span></div><br/><span class=\"company\">Full-Time</span><span>/</span><span class=\"region company\">USA Only</span></a></li>,\n",
       " <li class=\"feature\"><div class=\"highlight-bar\"></div><div class=\"tooltip--flag-logo\"><a href=\"/company/discogs-inc\"><div alt=\"Discogs Inc is hiring a remote Senior Full Stack Engineer - IMS at We Work Remotely.\" class=\"flag-logo\" loading=\"lazy\" style=\"background-image:url(https://we-work-remotely.imgix.net/logos/0127/7334/logo.gif?ixlib=rails-4.0.0&amp;w=50&amp;h=50&amp;dpr=2&amp;fit=fill&amp;auto=compress)\"></div><span class=\"tooltiptext\">View Company Profile</span></a></div><a href=\"/remote-jobs/discogs-inc-senior-full-stack-engineer-ims\"><span class=\"company\">Discogs Inc</span><br/><span class=\"title\">Senior Full Stack Engineer - IMS</span><div class=\"position-absolute listing-date\"><span class=\"listing-date__featured\">featured</span><span class=\"listing-date__date\">5d</span></div><br/><span class=\"company\">Full-Time</span><span>/</span><span class=\"region company\">USA Only</span></a></li>,\n",
       " <li class=\"feature\"><div class=\"highlight-bar\"></div><div class=\"tooltip--flag-logo\"><a href=\"/company/we-work-remotely\"><div alt=\"We Work Remotely is hiring a remote Full Stack Shopify App Developer at We Work Remotely.\" class=\"flag-logo\" loading=\"lazy\" style=\"background-image:url(https://we-work-remotely.imgix.net/logos/0154/8754/logo.gif?ixlib=rails-4.0.0&amp;w=50&amp;h=50&amp;dpr=2&amp;fit=fill&amp;auto=compress)\"></div><span class=\"tooltiptext\">View Company Profile</span></a></div><a href=\"/remote-jobs/we-work-remotely-full-stack-shopify-app-developer\"><span class=\"company\">We Work Remotely</span><span class=\"listing-pill\" style=\"background: #5f20fc;color:#fff !important;\">Pro <i class=\"fa-solid fa-star\"></i></span><object><a href=\"/top-remote-companies\" style=\"display: inline-block;\"><span class=\"listing-pill\" style=\"background: #dde0f4;\">Top 100</span></a></object><br/><span class=\"title\">Full Stack Shopify App Developer</span><div class=\"position-absolute listing-date\"><span class=\"listing-date__featured\">featured</span><span class=\"listing-date__date\">7d</span></div><br/><span class=\"company\">Full-Time</span><span>/</span><span class=\"region company\">Latin America Only</span></a></li>,\n",
       " <li class=\"feature\"><div class=\"highlight-bar\"></div><div class=\"tooltip--flag-logo\"><a href=\"/company/lemon-io\"><div alt=\"Lemon.io is hiring a remote Senior React.js &amp; PHP Developer at We Work Remotely.\" class=\"flag-logo\" loading=\"lazy\" style=\"background-image:url(https://we-work-remotely.imgix.net/logos/0076/3337/logo.gif?ixlib=rails-4.0.0&amp;w=50&amp;h=50&amp;dpr=2&amp;fit=fill&amp;auto=compress)\"></div><span class=\"tooltiptext\">View Company Profile</span></a></div><a href=\"/remote-jobs/lemon-io-senior-react-js-php-developer\"><span class=\"company\">Lemon.io</span><object><a href=\"/top-remote-companies\" style=\"display: inline-block;\"><span class=\"listing-pill\" style=\"background: #dde0f4;\">Top 100</span></a></object><br/><span class=\"title\">Senior React.js &amp; PHP Developer</span><div class=\"position-absolute listing-date\"><span class=\"listing-date__featured\">featured</span><span class=\"listing-date__date\">11d</span></div><br/><span class=\"company\">Full-Time</span><span>/</span><span class=\"region company\">Latin America Only/Europe Only/UK Only/Canada Only/Asia Only/Oceania Only</span></a></li>,\n",
       " <li class=\"feature\"><div class=\"highlight-bar\"></div><div class=\"tooltip--flag-logo\"><a href=\"/company/secure-privacy\"><div alt=\"Secure Privacy is hiring a remote Senior Full-Stack Web Developer (.NET/C#/MongoDB/Angular/Redux) with GDPR Experience at We Work Remotely.\" class=\"flag-logo\" loading=\"lazy\" style=\"background-image:url(https://we-work-remotely.imgix.net/logos/0064/2896/logo.gif?ixlib=rails-4.0.0&amp;w=50&amp;h=50&amp;dpr=2&amp;fit=fill&amp;auto=compress)\"></div><span class=\"tooltiptext\">View Company Profile</span></a></div><a href=\"/remote-jobs/secure-privacy-senior-full-stack-web-developer-net-c-mongodb-angular-redux-with-gdpr-experience\"><span class=\"company\">Secure Privacy</span><br/><span class=\"title\">Senior Full-Stack Web Developer (.NET/C#/MongoDB/Angular/Redux) with GDPR Experience</span><div class=\"position-absolute listing-date\"><span class=\"listing-date__featured\">featured</span><span class=\"listing-date__date\">11d</span></div><br/><span class=\"company\">Full-Time</span><span>/</span><span class=\"region company\">Anywhere in the World</span></a></li>,\n",
       " <li class=\"feature\"><div class=\"highlight-bar\"></div><div class=\"tooltip--flag-logo\"><a href=\"/company/metana-coding-school\"><div alt=\"Metana - Coding School is hiring a remote Full Stack Developer Bootcamp - Job Guaranteed🚀 at We Work Remotely.\" class=\"flag-logo\" loading=\"lazy\" style=\"background-image:url(https://we-work-remotely.imgix.net/logos/0154/3160/logo.gif?ixlib=rails-4.0.0&amp;w=50&amp;h=50&amp;dpr=2&amp;fit=fill&amp;auto=compress)\"></div><span class=\"tooltiptext\">View Company Profile</span></a></div><a href=\"/remote-jobs/metana-coding-school-full-stack-developer-bootcamp-job-guaranteed\"><span class=\"company\">Metana - Coding School</span><br/><span class=\"title\">Full Stack Developer Bootcamp - Job Guaranteed🚀</span><div class=\"position-absolute listing-date\"><span class=\"listing-date__featured\">featured</span><span class=\"listing-date__date\">12d</span></div><br/><span class=\"company\">Full-Time</span><span>/</span><span class=\"region company\">Anywhere in the World</span></a></li>,\n",
       " <li class=\"feature\"><div class=\"highlight-bar\"></div><div class=\"tooltip--flag-logo\"><a href=\"/company/meta\"><div alt=\"Meta is hiring a remote Product Manager, Global Workforce Solutions at We Work Remotely.\" class=\"flag-logo\" loading=\"lazy\" style=\"background-image:url(https://we-work-remotely.imgix.net/logos/0154/8181/logo.gif?ixlib=rails-4.0.0&amp;w=50&amp;h=50&amp;dpr=2&amp;fit=fill&amp;auto=compress)\"></div><span class=\"tooltiptext\">View Company Profile</span></a></div><a href=\"/remote-jobs/meta-product-manager-global-workforce-solutions\"><span class=\"company\">Meta</span><br/><span class=\"title\">Product Manager, Global Workforce Solutions</span><div class=\"position-absolute listing-date\"><span class=\"listing-date__featured\">featured</span><span class=\"listing-date__date\">13d</span></div><br/><span class=\"company\">Full-Time</span><span>/</span><span class=\"region company\">USA Only</span></a></li>,\n",
       " <li class=\"feature\"><div class=\"highlight-bar\"></div><div class=\"tooltip--flag-logo\"><a href=\"/company/lemon-io\"><div alt=\"Lemon.io is hiring a remote Senior React.js &amp; Node.js Developer at We Work Remotely.\" class=\"flag-logo\" loading=\"lazy\" style=\"background-image:url(https://we-work-remotely.imgix.net/logos/0076/3337/logo.gif?ixlib=rails-4.0.0&amp;w=50&amp;h=50&amp;dpr=2&amp;fit=fill&amp;auto=compress)\"></div><span class=\"tooltiptext\">View Company Profile</span></a></div><a href=\"/remote-jobs/lemon-io-senior-react-js-node-js-developer\"><span class=\"company\">Lemon.io</span><object><a href=\"/top-remote-companies\" style=\"display: inline-block;\"><span class=\"listing-pill\" style=\"background: #dde0f4;\">Top 100</span></a></object><br/><span class=\"title\">Senior React.js &amp; Node.js Developer</span><div class=\"position-absolute listing-date\"><span class=\"listing-date__featured\">featured</span><span class=\"listing-date__date\">14d</span></div><br/><span class=\"company\">Contract</span><span>/</span><span class=\"region company\">Latin America Only/Europe Only/UK Only/Canada Only/Asia Only/Oceania Only</span></a></li>,\n",
       " <li class=\"feature\"><div class=\"highlight-bar\"></div><div class=\"tooltip--flag-logo\"><a href=\"/company/yoko-co\"><div alt=\"Yoko Co is hiring a remote Technical Support Engineer (WordPress) at We Work Remotely.\" class=\"flag-logo\" loading=\"lazy\" style=\"background-image:url(https://we-work-remotely.imgix.net/logos/0081/6963/logo.gif?ixlib=rails-4.0.0&amp;w=50&amp;h=50&amp;dpr=2&amp;fit=fill&amp;auto=compress)\"></div><span class=\"tooltiptext\">View Company Profile</span></a></div><a href=\"/remote-jobs/yoko-co-technical-support-engineer-wordpress\"><span class=\"company\">Yoko Co</span><object><a href=\"/top-remote-companies\" style=\"display: inline-block;\"><span class=\"listing-pill\" style=\"background: #dde0f4;\">Top 100</span></a></object><br/><span class=\"title\">Technical Support Engineer (WordPress)</span><div class=\"position-absolute listing-date\"><span class=\"listing-date__featured\">featured</span><span class=\"listing-date__date\">19d</span></div><br/><span class=\"company\">Full-Time</span><span>/</span><span class=\"region company\">Anywhere in the World</span></a></li>,\n",
       " <li class=\"feature\"><div class=\"highlight-bar\"></div><div class=\"tooltip--flag-logo\"><a href=\"/company/localize\"><div alt=\"Localize is hiring a remote Full Stack Engineer at We Work Remotely.\" class=\"flag-logo\" loading=\"lazy\" style=\"background-image:url(https://we-work-remotely.imgix.net/logos/0017/1647/logo.gif?ixlib=rails-4.0.0&amp;w=50&amp;h=50&amp;dpr=2&amp;fit=fill&amp;auto=compress)\"></div><span class=\"tooltiptext\">View Company Profile</span></a></div><a href=\"/remote-jobs/localize-full-stack-engineer-5\"><span class=\"company\">Localize</span><br/><span class=\"title\">Full Stack Engineer</span><div class=\"position-absolute listing-date\"><span class=\"listing-date__featured\">featured</span><span class=\"listing-date__date\">21d</span></div><br/><span class=\"company\">Full-Time</span><span>/</span><span class=\"region company\">USA Only</span></a></li>,\n",
       " <li class=\"feature\"><div class=\"highlight-bar\"></div><div class=\"tooltip--flag-logo\"><a href=\"/company/onthegosystems\"><div alt=\"OnTheGoSystems is hiring a remote Senior PHP and JS Developer at We Work Remotely.\" class=\"flag-logo\" loading=\"lazy\" style=\"background-image:url(https://we-work-remotely.imgix.net/logos/0076/2990/logo.gif?ixlib=rails-4.0.0&amp;w=50&amp;h=50&amp;dpr=2&amp;fit=fill&amp;auto=compress)\"></div><span class=\"tooltiptext\">View Company Profile</span></a></div><a href=\"/remote-jobs/onthegosystems-senior-php-and-js-developer\"><span class=\"company\">OnTheGoSystems</span><object><a href=\"/top-remote-companies\" style=\"display: inline-block;\"><span class=\"listing-pill\" style=\"background: #dde0f4;\">Top 100</span></a></object><br/><span class=\"title\">Senior PHP and JS Developer</span><div class=\"position-absolute listing-date\"><span class=\"listing-date__featured\">featured</span><span class=\"listing-date__date\">21d</span></div><br/><span class=\"company\">Contract</span><span>/</span><span class=\"region company\">Europe Only</span></a></li>,\n",
       " <li class=\"feature\"><div class=\"highlight-bar\"></div><div class=\"tooltip--flag-logo\"><a href=\"/company/clouddevs\"><div alt=\"CloudDevs is hiring a remote Python Fullstack Engineer at We Work Remotely.\" class=\"flag-logo\" loading=\"lazy\" style=\"background-image:url(https://we-work-remotely.imgix.net/logos/0081/8410/logo.gif?ixlib=rails-4.0.0&amp;w=50&amp;h=50&amp;dpr=2&amp;fit=fill&amp;auto=compress)\"></div><span class=\"tooltiptext\">View Company Profile</span></a></div><a href=\"/remote-jobs/clouddevs-python-fullstack-engineer\"><span class=\"company\">CloudDevs</span><br/><span class=\"title\">Python Fullstack Engineer</span><div class=\"position-absolute listing-date\"><span class=\"listing-date__featured\">featured</span><span class=\"listing-date__date\">26d</span></div><br/><span class=\"company\">Full-Time</span><span>/</span><span class=\"region company\">Latin America Only/Europe Only/UK Only/Canada Only/EMEA Only/Asia Only/Oceania Only</span></a></li>,\n",
       " <li class=\"feature\"><span class=\"new\">New</span><div class=\"highlight-bar\"></div><div class=\"tooltip--flag-logo\"><a href=\"/company/a-team\"><div alt=\"A.Team is hiring a remote Senior Independent Software Developer ($90-$170/hr) at We Work Remotely.\" class=\"flag-logo\" loading=\"lazy\" style=\"background-image:url(https://we-work-remotely.imgix.net/logos/0071/4151/logo.gif?ixlib=rails-4.0.0&amp;w=50&amp;h=50&amp;dpr=2&amp;fit=fill&amp;auto=compress)\"></div><span class=\"tooltiptext\">View Company Profile</span></a></div><a href=\"/remote-jobs/a-team-senior-independent-software-developer-90-170-hr\"><span class=\"company\">A.Team</span><br/><span class=\"title\">Senior Independent Software Developer ($90-$170/hr)</span><div class=\"listing-date position-absolute\"><span class=\"listing-date__date\">10h</span></div><br/><span class=\"company\">Contract</span><span>/</span><span class=\"region company\">Anywhere in the World</span></a></li>,\n",
       " <li class=\"\"><span class=\"new\">New</span><div class=\"\"></div><div class=\"tooltip--flag-logo\"><a href=\"/company/baxenergy\"><div alt=\"BaxEnergy is hiring a remote Intermediate Software Developer at We Work Remotely.\" class=\"flag-logo\" loading=\"lazy\" style=\"background-image:url(https://we-work-remotely.imgix.net/logos/0144/3188/logo.gif?ixlib=rails-4.0.0&amp;w=50&amp;h=50&amp;dpr=2&amp;fit=fill&amp;auto=compress)\"></div><span class=\"tooltiptext\">View Company Profile</span></a></div><a href=\"/remote-jobs/baxenergy-intermediate-software-developer\"><span class=\"company\">BaxEnergy</span><br/><span class=\"title\">Intermediate Software Developer</span><div class=\"listing-date position-absolute\"><span class=\"listing-date__date\">4d</span></div><br/><span class=\"company\">Full-Time</span><span>/</span><span class=\"region company\">Anywhere in the World</span></a></li>,\n",
       " <li class=\"\"><span class=\"new\">New</span><div class=\"\"></div><div class=\"tooltip--flag-logo\"><a href=\"/company/sanctuary-computer\"><span class=\"tooltiptext\">View Company Profile</span></a></div><a href=\"/remote-jobs/sanctuary-computer-experienced-full-stack-developer-1\"><span class=\"company\">Sanctuary Computer</span><br/><span class=\"title\">Experienced Full-stack Developer</span><div class=\"listing-date position-absolute\"><span class=\"listing-date__date\">4d</span></div><br/><span class=\"company\">Full-Time</span><span>/</span><span class=\"region company\">Anywhere in the World</span></a></li>,\n",
       " <li class=\"feature\"><div class=\"highlight-bar\"></div><div class=\"tooltip--flag-logo\"><a href=\"/company/storetasker\"><div alt=\"Storetasker is hiring a remote Senior Shopify Developer (Remote + Flexible) at We Work Remotely.\" class=\"flag-logo\" loading=\"lazy\" style=\"background-image:url(https://we-work-remotely.imgix.net/logos/0074/8032/logo.gif?ixlib=rails-4.0.0&amp;w=50&amp;h=50&amp;dpr=2&amp;fit=fill&amp;auto=compress)\"></div><span class=\"tooltiptext\">View Company Profile</span></a></div><a href=\"/remote-jobs/storetasker-senior-shopify-developer-remote-flexible-3\"><span class=\"company\">Storetasker</span><br/><span class=\"title\">Senior Shopify Developer (Remote + Flexible)</span><div class=\"listing-date position-absolute\"><span class=\"listing-date__date\">5d</span></div><br/><span class=\"company\">Contract</span><span>/</span><span class=\"region company\">Anywhere in the World</span></a></li>,\n",
       " <li class=\"\"><div class=\"\"></div><div class=\"tooltip--flag-logo\"><a href=\"/company/learning-tapestry\"><span class=\"tooltiptext\">View Company Profile</span></a></div><a href=\"/remote-jobs/learning-tapestry-senior-full-stack-engineer-2\"><span class=\"company\">Learning Tapestry</span><br/><span class=\"title\">Senior Full Stack Engineer</span><div class=\"listing-date position-absolute\"><span class=\"listing-date__date\">5d</span></div><br/><span class=\"company\">Contract</span><span>/</span><span class=\"region company\">Americas Only/Europe Only</span></a></li>,\n",
       " <li class=\"\"><div class=\"\"></div><div class=\"tooltip--flag-logo\"><a href=\"/company/nordhealth\"><div alt=\"Nordhealth is hiring a remote Senior Full-Stack Engineer at We Work Remotely.\" class=\"flag-logo\" loading=\"lazy\" style=\"background-image:url(https://we-work-remotely.imgix.net/logos/0144/3112/logo.gif?ixlib=rails-4.0.0&amp;w=50&amp;h=50&amp;dpr=2&amp;fit=fill&amp;auto=compress)\"></div><span class=\"tooltiptext\">View Company Profile</span></a></div><a href=\"/remote-jobs/nordhealth-senior-full-stack-engineer\"><span class=\"company\">Nordhealth</span><br/><span class=\"title\">Senior Full-Stack Engineer</span><div class=\"listing-date position-absolute\"><span class=\"listing-date__date\">9d</span></div><br/><span class=\"company\">Full-Time</span><span>/</span><span class=\"region company\">Europe Only</span></a></li>,\n",
       " <li class=\"\"><div class=\"\"></div><div class=\"tooltip--flag-logo\"><a href=\"/company/overalls\"><span class=\"tooltiptext\">View Company Profile</span></a></div><a href=\"/remote-jobs/overalls-software-engineer\"><span class=\"company\">Overalls</span><br/><span class=\"title\">Software Engineer</span><div class=\"listing-date position-absolute\"><span class=\"listing-date__date\">9d</span></div><br/><span class=\"company\">Full-Time</span><span>/</span><span class=\"region company\">USA Only</span></a></li>,\n",
       " <li class=\"\"><div class=\"\"></div><div class=\"tooltip--flag-logo\"><a href=\"/company/elevate-labs\"><div alt=\"Elevate Labs is hiring a remote Senior Front End Web Engineer at We Work Remotely.\" class=\"flag-logo\" loading=\"lazy\" style=\"background-image:url(https://we-work-remotely.imgix.net/logos/0018/4581/logo.gif?ixlib=rails-4.0.0&amp;w=50&amp;h=50&amp;dpr=2&amp;fit=fill&amp;auto=compress)\"></div><span class=\"tooltiptext\">View Company Profile</span></a></div><a href=\"/remote-jobs/elevate-labs-senior-front-end-web-engineer\"><span class=\"company\">Elevate Labs</span><br/><span class=\"title\">Senior Front End Web Engineer</span><div class=\"listing-date position-absolute\"><span class=\"listing-date__date\">11d</span></div><br/><span class=\"company\">Full-Time</span><span>/</span><span class=\"region company\">Americas Only</span></a></li>,\n",
       " <li class=\"feature\"><div class=\"highlight-bar\"></div><div class=\"tooltip--flag-logo\"><a href=\"/company/openplay\"><div alt=\"OpenPlay is hiring a remote Full Stack Ruby Engineer at We Work Remotely.\" class=\"flag-logo\" loading=\"lazy\" style=\"background-image:url(https://we-work-remotely.imgix.net/logos/0074/5925/logo.gif?ixlib=rails-4.0.0&amp;w=50&amp;h=50&amp;dpr=2&amp;fit=fill&amp;auto=compress)\"></div><span class=\"tooltiptext\">View Company Profile</span></a></div><a href=\"/remote-jobs/openplay-full-stack-ruby-engineer\"><span class=\"company\">OpenPlay</span><br/><span class=\"title\">Full Stack Ruby Engineer</span><div class=\"listing-date position-absolute\"><span class=\"listing-date__date\">12d</span></div><br/><span class=\"company\">Full-Time</span><span>/</span><span class=\"region company\">USA Only</span></a></li>,\n",
       " <li class=\"feature\"><div class=\"highlight-bar\"></div><div class=\"tooltip--flag-logo\"><a href=\"/company/deon\"><div alt=\"DEON is hiring a remote Senior Cloud Asp.NET, K8s Kubernetes Developer at We Work Remotely.\" class=\"flag-logo\" loading=\"lazy\" style=\"background-image:url(https://we-work-remotely.imgix.net/logos/0154/3157/logo.gif?ixlib=rails-4.0.0&amp;w=50&amp;h=50&amp;dpr=2&amp;fit=fill&amp;auto=compress)\"></div><span class=\"tooltiptext\">View Company Profile</span></a></div><a href=\"/remote-jobs/deon-senior-cloud-asp-net-k8s-kubernetes-developer\"><span class=\"company\">DEON</span><br/><span class=\"title\">Senior Cloud Asp.NET, K8s Kubernetes Developer</span><div class=\"listing-date position-absolute\"><span class=\"listing-date__date\">12d</span></div><br/><span class=\"company\">Full-Time</span><span>/</span><span class=\"region company\">Europe Only</span></a></li>,\n",
       " <li class=\"feature\"><div class=\"highlight-bar\"></div><div class=\"tooltip--flag-logo\"><a href=\"/company/bbe-marketing-inc\"><div alt=\"BBE Marketing Inc is hiring a remote Full-Stack Wordpress Developer at We Work Remotely.\" class=\"flag-logo\" loading=\"lazy\" style=\"background-image:url(https://we-work-remotely.imgix.net/logos/0064/7908/logo.gif?ixlib=rails-4.0.0&amp;w=50&amp;h=50&amp;dpr=2&amp;fit=fill&amp;auto=compress)\"></div><span class=\"tooltiptext\">View Company Profile</span></a></div><a href=\"/remote-jobs/bbe-marketing-inc-full-stack-wordpress-developer-13\"><span class=\"company\">BBE Marketing Inc</span><object><a href=\"/top-remote-companies\" style=\"display: inline-block;\"><span class=\"listing-pill\" style=\"background: #dde0f4;\">Top 100</span></a></object><br/><span class=\"title\">Full-Stack Wordpress Developer</span><div class=\"listing-date position-absolute\"><span class=\"listing-date__date\">13d</span></div><br/><span class=\"company\">Full-Time</span><span>/</span><span class=\"region company\">Anywhere in the World</span></a></li>,\n",
       " <li class=\"\"><div class=\"\"></div><div class=\"tooltip--flag-logo\"><a href=\"/company/power-diary\"><div alt=\"Power Diary is hiring a remote .NET Software Engineer (work-from-home) at We Work Remotely.\" class=\"flag-logo\" loading=\"lazy\" style=\"background-image:url(https://we-work-remotely.imgix.net/logos/0134/0580/logo.gif?ixlib=rails-4.0.0&amp;w=50&amp;h=50&amp;dpr=2&amp;fit=fill&amp;auto=compress)\"></div><span class=\"tooltiptext\">View Company Profile</span></a></div><a href=\"/remote-jobs/power-diary-net-software-engineer-work-from-home-1\"><span class=\"company\">Power Diary</span><br/><span class=\"title\">.NET Software Engineer (work-from-home)</span><div class=\"listing-date position-absolute\"><span class=\"listing-date__date\">13d</span></div><br/><span class=\"company\">Contract</span><span>/</span><span class=\"region company\">Anywhere in the World</span></a></li>,\n",
       " <li class=\"\"><div class=\"\"></div><div class=\"tooltip--flag-logo\"><a href=\"/company/maptiler\"><span class=\"tooltiptext\">View Company Profile</span></a></div><a href=\"/remote-jobs/maptiler-mobile-sdk-developer-ios-android-europe\"><span class=\"company\">MapTiler</span><br/><span class=\"title\">📱 Mobile SDK Developer (iOS &amp; Android) - Europe</span><div class=\"listing-date position-absolute\"><span class=\"listing-date__date\">15d</span></div><br/><span class=\"company\">Full-Time</span><span>/</span><span class=\"region company\">Europe Only</span></a></li>,\n",
       " <li class=\"\"><div class=\"\"></div><div class=\"tooltip--flag-logo\"><a href=\"/company/codesignal\"><span class=\"tooltiptext\">View Company Profile</span></a></div><a href=\"/remote-jobs/codesignal-course-development-engineer-full-stack-software\"><span class=\"company\">CodeSignal</span><br/><span class=\"title\">Course Development Engineer (Full-Stack Software)</span><div class=\"listing-date position-absolute\"><span class=\"listing-date__date\">19d</span></div><br/><span class=\"company\">Full-Time</span><span>/</span><span class=\"region company\">Europe Only</span></a></li>,\n",
       " <li class=\"\"><div class=\"\"></div><div class=\"tooltip--flag-logo\"><a href=\"/company/docfield\"><span class=\"tooltiptext\">View Company Profile</span></a></div><a href=\"/remote-jobs/docfield-technical-lead\"><span class=\"company\">Docfield</span><br/><span class=\"title\">Technical Lead</span><div class=\"listing-date position-absolute\"><span class=\"listing-date__date\">20d</span></div><br/><span class=\"company\">Full-Time</span><span>/</span><span class=\"region company\">Europe Only</span></a></li>,\n",
       " <li class=\"feature\"><div class=\"highlight-bar\"></div><div class=\"tooltip--flag-logo\"><a href=\"/company/syncwith\"><div alt=\"SyncWith is hiring a remote Senior Full Stack Engineer at We Work Remotely.\" class=\"flag-logo\" loading=\"lazy\" style=\"background-image:url(https://we-work-remotely.imgix.net/logos/0154/7203/logo.gif?ixlib=rails-4.0.0&amp;w=50&amp;h=50&amp;dpr=2&amp;fit=fill&amp;auto=compress)\"></div><span class=\"tooltiptext\">View Company Profile</span></a></div><a href=\"/remote-jobs/syncwith-senior-full-stack-engineer\"><span class=\"company\">SyncWith</span><br/><span class=\"title\">Senior Full Stack Engineer</span><div class=\"listing-date position-absolute\"><span class=\"listing-date__date\">20d</span></div><br/><span class=\"company\">Full-Time</span><span>/</span><span class=\"region company\">Americas Only</span></a></li>,\n",
       " <li class=\"feature\"><div class=\"highlight-bar\"></div><div class=\"tooltip--flag-logo\"><a href=\"/company/co-create\"><div alt=\"Co:Create is hiring a remote Senior Full Stack Engineer (React Native) at We Work Remotely.\" class=\"flag-logo\" loading=\"lazy\" style=\"background-image:url(https://we-work-remotely.imgix.net/logos/0154/5245/logo.gif?ixlib=rails-4.0.0&amp;w=50&amp;h=50&amp;dpr=2&amp;fit=fill&amp;auto=compress)\"></div><span class=\"tooltiptext\">View Company Profile</span></a></div><a href=\"/remote-jobs/co-create-senior-full-stack-engineer-react-native\"><span class=\"company\">Co:Create </span><br/><span class=\"title\">Senior Full Stack Engineer (React Native)</span><div class=\"listing-date position-absolute\"><span class=\"listing-date__date\">25d</span></div><br/><span class=\"company\">Full-Time</span><span>/</span><span class=\"region company\">North America Only/Latin America Only/Canada Only</span></a></li>,\n",
       " <li class=\"\"><div class=\"\"></div><div class=\"tooltip--flag-logo\"><a href=\"/company/commure-athelas\"><span class=\"tooltiptext\">View Company Profile</span></a></div><a href=\"/remote-jobs/commure-athelas-software-engineer-brazil\"><span class=\"company\">Commure/Athelas</span><br/><span class=\"title\">Software Engineer - BRAZIL</span><div class=\"listing-date position-absolute\"><span class=\"listing-date__date\">28d</span></div><br/><span class=\"company\">Full-Time</span><span>/</span><span class=\"region company\">Anywhere in the World</span></a></li>,\n",
       " <li class=\"\"><div class=\"\"></div><div class=\"tooltip--flag-logo\"><a href=\"/company/cabal\"><span class=\"tooltiptext\">View Company Profile</span></a></div><a href=\"/remote-jobs/cabal-senior-software-engineer\"><span class=\"company\">Cabal</span><br/><span class=\"title\">Senior Software Engineer</span><div class=\"listing-date position-absolute\"><span class=\"listing-date__date\">29d</span></div><br/><span class=\"company\">Full-Time</span><span>/</span><span class=\"region company\">Americas Only</span></a></li>]"
      ]
     },
     "execution_count": 3,
     "metadata": {},
     "output_type": "execute_result"
    }
   ],
   "source": [
    "'''\n",
    "jobs = soup.find(\"section\", class_=\"jobs\").find_all(\"li\")[1:-1]\n",
    "\n",
    "# clean_jobs = jobs[1:-1]\n",
    "\n",
    "jobs\n",
    "'''"
   ]
  },
  {
   "cell_type": "code",
   "execution_count": 4,
   "metadata": {},
   "outputs": [
    {
     "name": "stdout",
     "output_type": "stream",
     "text": [
      "[{'company': 'Contra', 'title': 'Webflow Developer', 'listing_date': '6h', 'time': 'Contract', 'region': 'Anywhere in the World', 'url': 'https://weworkremotely.com//remote-jobs/contra-webflow-developer'}, {'company': 'Lemon.io', 'title': 'Senior Android Developer (start - ASAP)', 'listing_date': '4', 'time': 'Full-Time', 'region': 'Latin America Only/Europe Only/UK Only/Canada Only/Asia Only/Oceania Only', 'url': 'https://weworkremotely.com//remote-jobs/lemon-io-senior-android-developer-start-asap'}, {'company': 'Lemon.io', 'title': 'Senior iOS Developer (start - ASAP)', 'listing_date': '4', 'time': 'Full-Time', 'region': 'Latin America Only/Europe Only/UK Only/Canada Only/Asia Only/Oceania Only', 'url': 'https://weworkremotely.com//remote-jobs/lemon-io-senior-ios-developer-start-asap'}, {'company': 'Loop HQ Inc.', 'title': 'Lead Software Engineer', 'listing_date': '4', 'time': 'Full-Time', 'region': 'USA Only', 'url': 'https://weworkremotely.com//remote-jobs/loop-hq-inc-lead-software-engineer'}, {'company': 'Discogs Inc', 'title': 'Senior Full Stack Engineer - IMS', 'listing_date': '5', 'time': 'Full-Time', 'region': 'USA Only', 'url': 'https://weworkremotely.com//remote-jobs/discogs-inc-senior-full-stack-engineer-ims'}, {'company': 'We Work Remotely', 'title': 'Full Stack Shopify App Developer', 'listing_date': '7', 'time': 'Full-Time', 'region': 'Latin America Only', 'url': 'https://weworkremotely.com//remote-jobs/we-work-remotely-full-stack-shopify-app-developer'}, {'company': 'Lemon.io', 'title': 'Senior React.js & PHP Developer', 'listing_date': '11', 'time': 'Full-Time', 'region': 'Latin America Only/Europe Only/UK Only/Canada Only/Asia Only/Oceania Only', 'url': 'https://weworkremotely.com//remote-jobs/lemon-io-senior-react-js-php-developer'}, {'company': 'Secure Privacy', 'title': 'Senior Full-Stack Web Developer (.NET/C#/MongoDB/Angular/Redux) with GDPR Experience', 'listing_date': '11', 'time': 'Full-Time', 'region': 'Anywhere in the World', 'url': 'https://weworkremotely.com//remote-jobs/secure-privacy-senior-full-stack-web-developer-net-c-mongodb-angular-redux-with-gdpr-experience'}, {'company': 'Metana - Coding School', 'title': 'Full Stack Developer Bootcamp - Job Guaranteed🚀', 'listing_date': '12', 'time': 'Full-Time', 'region': 'Anywhere in the World', 'url': 'https://weworkremotely.com//remote-jobs/metana-coding-school-full-stack-developer-bootcamp-job-guaranteed'}, {'company': 'Meta', 'title': 'Product Manager, Global Workforce Solutions', 'listing_date': '13', 'time': 'Full-Time', 'region': 'USA Only', 'url': 'https://weworkremotely.com//remote-jobs/meta-product-manager-global-workforce-solutions'}, {'company': 'Lemon.io', 'title': 'Senior React.js & Node.js Developer', 'listing_date': '14', 'time': 'Contract', 'region': 'Latin America Only/Europe Only/UK Only/Canada Only/Asia Only/Oceania Only', 'url': 'https://weworkremotely.com//remote-jobs/lemon-io-senior-react-js-node-js-developer'}, {'company': 'Yoko Co', 'title': 'Technical Support Engineer (WordPress)', 'listing_date': '19', 'time': 'Full-Time', 'region': 'Anywhere in the World', 'url': 'https://weworkremotely.com//remote-jobs/yoko-co-technical-support-engineer-wordpress'}, {'company': 'Localize', 'title': 'Full Stack Engineer', 'listing_date': '21', 'time': 'Full-Time', 'region': 'USA Only', 'url': 'https://weworkremotely.com//remote-jobs/localize-full-stack-engineer-5'}, {'company': 'OnTheGoSystems', 'title': 'Senior PHP and JS Developer', 'listing_date': '21', 'time': 'Contract', 'region': 'Europe Only', 'url': 'https://weworkremotely.com//remote-jobs/onthegosystems-senior-php-and-js-developer'}, {'company': 'CloudDevs', 'title': 'Python Fullstack Engineer', 'listing_date': '26', 'time': 'Full-Time', 'region': 'Latin America Only/Europe Only/UK Only/Canada Only/EMEA Only/Asia Only/Oceania Only', 'url': 'https://weworkremotely.com//remote-jobs/clouddevs-python-fullstack-engineer'}, {'company': 'A.Team', 'title': 'Senior Independent Software Developer ($90-$170/hr)', 'listing_date': '10h', 'time': 'Contract', 'region': 'Anywhere in the World', 'url': 'https://weworkremotely.com//remote-jobs/a-team-senior-independent-software-developer-90-170-hr'}, {'company': 'BaxEnergy', 'title': 'Intermediate Software Developer', 'listing_date': '4', 'time': 'Full-Time', 'region': 'Anywhere in the World', 'url': 'https://weworkremotely.com//remote-jobs/baxenergy-intermediate-software-developer'}, {'company': 'Sanctuary Computer', 'title': 'Experienced Full-stack Developer', 'listing_date': '4', 'time': 'Full-Time', 'region': 'Anywhere in the World', 'url': 'https://weworkremotely.com//remote-jobs/sanctuary-computer-experienced-full-stack-developer-1'}, {'company': 'Storetasker', 'title': 'Senior Shopify Developer (Remote + Flexible)', 'listing_date': '5', 'time': 'Contract', 'region': 'Anywhere in the World', 'url': 'https://weworkremotely.com//remote-jobs/storetasker-senior-shopify-developer-remote-flexible-3'}, {'company': 'Learning Tapestry', 'title': 'Senior Full Stack Engineer', 'listing_date': '5', 'time': 'Contract', 'region': 'Americas Only/Europe Only', 'url': 'https://weworkremotely.com//remote-jobs/learning-tapestry-senior-full-stack-engineer-2'}, {'company': 'Nordhealth', 'title': 'Senior Full-Stack Engineer', 'listing_date': '9', 'time': 'Full-Time', 'region': 'Europe Only', 'url': 'https://weworkremotely.com//remote-jobs/nordhealth-senior-full-stack-engineer'}, {'company': 'Overalls', 'title': 'Software Engineer', 'listing_date': '9', 'time': 'Full-Time', 'region': 'USA Only', 'url': 'https://weworkremotely.com//remote-jobs/overalls-software-engineer'}, {'company': 'Elevate Labs', 'title': 'Senior Front End Web Engineer', 'listing_date': '11', 'time': 'Full-Time', 'region': 'Americas Only', 'url': 'https://weworkremotely.com//remote-jobs/elevate-labs-senior-front-end-web-engineer'}, {'company': 'OpenPlay', 'title': 'Full Stack Ruby Engineer', 'listing_date': '12', 'time': 'Full-Time', 'region': 'USA Only', 'url': 'https://weworkremotely.com//remote-jobs/openplay-full-stack-ruby-engineer'}, {'company': 'DEON', 'title': 'Senior Cloud Asp.NET, K8s Kubernetes Developer', 'listing_date': '12', 'time': 'Full-Time', 'region': 'Europe Only', 'url': 'https://weworkremotely.com//remote-jobs/deon-senior-cloud-asp-net-k8s-kubernetes-developer'}, {'company': 'BBE Marketing Inc', 'title': 'Full-Stack Wordpress Developer', 'listing_date': '13', 'time': 'Full-Time', 'region': 'Anywhere in the World', 'url': 'https://weworkremotely.com//remote-jobs/bbe-marketing-inc-full-stack-wordpress-developer-13'}, {'company': 'Power Diary', 'title': '.NET Software Engineer (work-from-home)', 'listing_date': '13', 'time': 'Contract', 'region': 'Anywhere in the World', 'url': 'https://weworkremotely.com//remote-jobs/power-diary-net-software-engineer-work-from-home-1'}, {'company': 'MapTiler', 'title': '📱 Mobile SDK Developer (iOS & Android) - Europe', 'listing_date': '15', 'time': 'Full-Time', 'region': 'Europe Only', 'url': 'https://weworkremotely.com//remote-jobs/maptiler-mobile-sdk-developer-ios-android-europe'}, {'company': 'CodeSignal', 'title': 'Course Development Engineer (Full-Stack Software)', 'listing_date': '19', 'time': 'Full-Time', 'region': 'Europe Only', 'url': 'https://weworkremotely.com//remote-jobs/codesignal-course-development-engineer-full-stack-software'}, {'company': 'Docfield', 'title': 'Technical Lead', 'listing_date': '20', 'time': 'Full-Time', 'region': 'Europe Only', 'url': 'https://weworkremotely.com//remote-jobs/docfield-technical-lead'}, {'company': 'SyncWith', 'title': 'Senior Full Stack Engineer', 'listing_date': '20', 'time': 'Full-Time', 'region': 'Americas Only', 'url': 'https://weworkremotely.com//remote-jobs/syncwith-senior-full-stack-engineer'}, {'company': 'Co:Create ', 'title': 'Senior Full Stack Engineer (React Native)', 'listing_date': '25', 'time': 'Full-Time', 'region': 'North America Only/Latin America Only/Canada Only', 'url': 'https://weworkremotely.com//remote-jobs/co-create-senior-full-stack-engineer-react-native'}, {'company': 'Commure/Athelas', 'title': 'Software Engineer - BRAZIL', 'listing_date': '28', 'time': 'Full-Time', 'region': 'Anywhere in the World', 'url': 'https://weworkremotely.com//remote-jobs/commure-athelas-software-engineer-brazil'}, {'company': 'Cabal', 'title': 'Senior Software Engineer', 'listing_date': '29', 'time': 'Full-Time', 'region': 'Americas Only', 'url': 'https://weworkremotely.com//remote-jobs/cabal-senior-software-engineer'}]\n"
     ]
    }
   ],
   "source": [
    "'''\n",
    "all_jobs = []\n",
    "\n",
    "for job in jobs:\n",
    "\n",
    "    companies = job.find_all(\"span\", class_=\"company\")\n",
    "    company, time, _ = companies\n",
    "\n",
    "    company = company.text\n",
    "    title = job.find(\"span\", class_=\"title\").text\n",
    "    listing_date = job.find(\"span\", class_=\"listing-date__date\").text.replace(\"d\",\"\")\n",
    "    time = time.text\n",
    "    region = job.find(\"span\", class_=\"region company\").text\n",
    "    url = job.find(\"div\", class_=\"tooltip--flag-logo\").next_sibling[\"href\"]\n",
    "\n",
    "    if url:\n",
    "        pass\n",
    "    else:\n",
    "        url = \"None\"\n",
    "\n",
    "    job_dict = {\n",
    "        \"company\" : company,\n",
    "        \"title\" : title,\n",
    "        \"listing_date\" : listing_date,\n",
    "        \"time\" : time,\n",
    "        \"region\" : region,\n",
    "        \"url\" : f\"https://weworkremotely.com/{url}\"\n",
    "    }\n",
    "\n",
    "    all_jobs.append(job_dict)\n",
    "\n",
    "print(all_jobs)\n",
    "'''"
   ]
  },
  {
   "cell_type": "code",
   "execution_count": 30,
   "metadata": {},
   "outputs": [],
   "source": [
    "import requests as rq\n",
    "from bs4 import BeautifulSoup as bs\n",
    "\n",
    "all_jobs = []\n",
    "\n",
    "def scrape_page(url):\n",
    "    print(f\"Scrape -----> {url}\")\n",
    "    response = rq.get(url)\n",
    "    soup = bs(response.content, \"html.parser\")\n",
    "    jobs = soup.find(\"section\", class_=\"jobs\").find_all(\"li\")[1:-1]\n",
    "\n",
    "    # all_jobs = []\n",
    "\n",
    "    for job in jobs:\n",
    "        companies = job.find_all(\"span\", class_=\"company\")\n",
    "        company, time, region = companies\n",
    "\n",
    "        company = company.text\n",
    "        title = job.find(\"span\", class_=\"title\").text\n",
    "        listing_date = job.find(\"span\", class_=\"listing-date__date\").text\n",
    "        time = time.text\n",
    "        region = region.text\n",
    "        url = job.find(\"div\", class_=\"tooltip--flag-logo\").next_sibling[\"href\"]\n",
    "\n",
    "        if url:\n",
    "            pass\n",
    "        else:\n",
    "            url = \"None\"\n",
    "\n",
    "        job_dict = {\n",
    "            \"company\" : company,\n",
    "            \"title\" : title,\n",
    "            \"listing_date\" : listing_date,\n",
    "            \"time\" : time,\n",
    "            \"region\" : region,\n",
    "            \"url\" : f\"https://weworkremotely.com/{url}\"\n",
    "        }\n",
    "\n",
    "        all_jobs.append(job_dict)"
   ]
  },
  {
   "cell_type": "code",
   "execution_count": 25,
   "metadata": {},
   "outputs": [
    {
     "name": "stdout",
     "output_type": "stream",
     "text": [
      "Scrape -----> https://weworkremotely.com/remote-full-time-jobs?page=1\n",
      "Scrape -----> https://weworkremotely.com/remote-full-time-jobs?page=2\n",
      "Scrape -----> https://weworkremotely.com/remote-full-time-jobs?page=3\n",
      "Scrape -----> https://weworkremotely.com/remote-full-time-jobs?page=4\n",
      "166\n"
     ]
    }
   ],
   "source": [
    "'''\n",
    "url = \"https://weworkremotely.com/remote-full-time-jobs\"\n",
    "\n",
    "response = rq.get(url)\n",
    "soup = bs(response.content, \"html.parser\")\n",
    "\n",
    "pages = len(soup.find(\"div\", class_=\"pagination\").find_all(\"span\", class_=\"page\"))\n",
    "\n",
    "for page in range(pages):\n",
    "    page = page + 1\n",
    "    url = f\"https://weworkremotely.com/remote-full-time-jobs?page={page}\"\n",
    "    scrape_page(url)\n",
    "\n",
    "# print(all_jobs)\n",
    "print(len(all_jobs))\n",
    "'''"
   ]
  },
  {
   "cell_type": "code",
   "execution_count": 31,
   "metadata": {},
   "outputs": [
    {
     "name": "stdout",
     "output_type": "stream",
     "text": [
      "Scrape -----> https://weworkremotely.com/remote-full-time-jobs?page=1\n",
      "Scrape -----> https://weworkremotely.com/remote-full-time-jobs?page=2\n",
      "Scrape -----> https://weworkremotely.com/remote-full-time-jobs?page=3\n",
      "Scrape -----> https://weworkremotely.com/remote-full-time-jobs?page=4\n",
      "166\n"
     ]
    }
   ],
   "source": [
    "def get_pages(url):\n",
    "    response = rq.get(url)\n",
    "    soup = bs(response.content, \"html.parser\")\n",
    "\n",
    "    pages = len(soup.find(\"div\", class_=\"pagination\").find_all(\"span\", class_=\"page\"))\n",
    "\n",
    "    return pages\n",
    "\n",
    "len_pages = get_pages(\"https://weworkremotely.com/remote-full-time-jobs\")\n",
    "\n",
    "for page in range(len_pages):\n",
    "    # page = page + 1\n",
    "    url = f\"https://weworkremotely.com/remote-full-time-jobs?page={page + 1}\"\n",
    "    scrape_page(url)\n",
    "\n",
    "print(len(all_jobs))"
   ]
  },
  {
   "cell_type": "markdown",
   "metadata": {},
   "source": [
    "-----------------------------------------"
   ]
  },
  {
   "cell_type": "markdown",
   "metadata": {},
   "source": [
    "<h6><ul> - remote | OK &nbsp;&nbsp;&nbsp; 동적 크롤링 필요</ul>"
   ]
  },
  {
   "cell_type": "code",
   "execution_count": 46,
   "metadata": {},
   "outputs": [
    {
     "name": "stdout",
     "output_type": "stream",
     "text": [
      "<Response [403]>\n",
      "<!DOCTYPE html>\n",
      "<html lang=\"en-US\"><head><title>Just a moment...</title><meta content=\"text/html; charset=utf-8\" http-equiv=\"Content-Type\"/><meta content=\"IE=Edge\" http-equiv=\"X-UA-Compatible\"/><meta content=\"noindex,nofollow\" name=\"robots\"/><meta content=\"width=device-width,initial-scale=1\" name=\"viewport\"/><style>*{box-sizing:border-box;margin:0;padding:0}html{line-height:1.15;-webkit-text-size-adjust:100%;color:#313131;font-family:system-ui,-apple-system,BlinkMacSystemFont,Segoe UI,Roboto,Helvetica Neue,Arial,Noto Sans,sans-serif,Apple Color Emoji,Segoe UI Emoji,Segoe UI Symbol,Noto Color Emoji}body{display:flex;flex-direction:column;height:100vh;min-height:100vh}.main-content{margin:8rem auto;max-width:60rem;padding-left:1.5rem}@media (width <= 720px){.main-content{margin-top:4rem}}.h2{font-size:1.5rem;font-weight:500;line-height:2.25rem}@media (width <= 720px){.h2{font-size:1.25rem;line-height:1.5rem}}#challenge-error-text{background-image:url(data:image/svg+xml;base64,PHN2ZyB4bWxucz0iaHR0cDovL3d3dy53My5vcmcvMjAwMC9zdmciIHdpZHRoPSIzMiIgaGVpZ2h0PSIzMiIgZmlsbD0ibm9uZSI+PHBhdGggZmlsbD0iI0IyMEYwMyIgZD0iTTE2IDNhMTMgMTMgMCAxIDAgMTMgMTNBMTMuMDE1IDEzLjAxNSAwIDAgMCAxNiAzbTAgMjRhMTEgMTEgMCAxIDEgMTEtMTEgMTEuMDEgMTEuMDEgMCAwIDEtMTEgMTEiLz48cGF0aCBmaWxsPSIjQjIwRjAzIiBkPSJNMTcuMDM4IDE4LjYxNUgxNC44N0wxNC41NjMgOS41aDIuNzgzem0tMS4wODQgMS40MjdxLjY2IDAgMS4wNTcuMzg4LjQwNy4zODkuNDA3Ljk5NCAwIC41OTYtLjQwNy45ODQtLjM5Ny4zOS0xLjA1Ny4zODktLjY1IDAtMS4wNTYtLjM4OS0uMzk4LS4zODktLjM5OC0uOTg0IDAtLjU5Ny4zOTgtLjk4NS40MDYtLjM5NyAxLjA1Ni0uMzk3Ii8+PC9zdmc+);background-repeat:no-repeat;background-size:contain;padding-left:34px}@media (prefers-color-scheme:dark){body{background-color:#222;color:#d9d9d9}}</style><meta content=\"390\" http-equiv=\"refresh\"/></head><body class=\"no-js\"><div class=\"main-wrapper\" role=\"main\"><div class=\"main-content\"><noscript><div class=\"h2\"><span id=\"challenge-error-text\">Enable JavaScript and cookies to continue</span></div></noscript></div></div><script>(function(){window._cf_chl_opt={cvId: '3',cZone: \"remoteok.com\",cType: 'managed',cNounce: '13560',cRay: '8d2e2d6a5cdcc449',cHash: '9fb3ea37f8653ff',cH: 'yHXPNfEe5eXw.7XXmQb1MrDMu7U4dhimPmZB1YDxOro-1728978198-1.1.1.1-3p_0lhiS1m_LXiT11D_USLqFitr7N9..DuuD6lEamAb3CRrKYD52EEdoQ7opjnuK',cUPMDTk: \"\\/?__cf_chl_tk=zFseDO27BN7kyRR2baKkqHkLfdpzevYFxAZAaO6ITIE-1728978198-1.0.1.1-r_X1BgkK9DFuLjMiyuZ8W2UySuB0v6GgLwOfzp7HSyg\",cFPWv: 'b',cITimeS: '1728978198',cTTimeMs: '1000',cMTimeMs: '390000',cTplV: 5,cTplB: 'cf',cK: \"\",fa: \"\\/?__cf_chl_f_tk=zFseDO27BN7kyRR2baKkqHkLfdpzevYFxAZAaO6ITIE-1728978198-1.0.1.1-r_X1BgkK9DFuLjMiyuZ8W2UySuB0v6GgLwOfzp7HSyg\",md: \"KM7he7o_w4.T986EpTUBsXCwqbe22rGr7MIyUELUufk-1728978198-1.1.1.1-OBluxVDNYtLjRmyeEcJlESyRrGBUIgMvmkguyJ6JCmvow4Uk1gq_CXekEZ2UQD54PnvAjox5ciqSagCejci43mDv_4TB56S30ZT_fC4L3_15kT6gaexoqEqBMNn4v4ox__u3br1Fbbobw0TTVqyToSNMQ0mFzjY9s6aM44UAPoPH5hJsg48AaqbJMeB1QXl7rvzMrNLzFYntoAHJzYVOuujkvMSad3Kfozf9n2tV2pTw50gZd_.2fvK9S6Agcb4POP2rq0uAD250n.H0dH1.8OOqsmuj1y2Y9f2sJGWeJNCHTMMVrP_95Z8GtnYyKZAIuBBbfLOIj6xC0bshPtrDNFR9X2LG1jp7y6i0U7K5Qc.IhIM9WmRu6Z26wGTYMw5CgZz_Z6E7PwFKMdEnCQKiaoocTRi0HYGSEcQpUzoHh7rksAmMPSMx9ovolSSyCbhfptM5Em3pbGamhzfzJuuLOlds2b35Wrw8p0fCogpuh9OsbtmXqg.AFqen8dlZBauuj4FUxRo_JR_QT8P7TGA0wG4fpq7ocLMWFbxn5q4Bovs9nojtRo2p7bCnblkt_XQ9yhJSPJJU8KoX2wYAfqV6JoDshrlTR4OhJP9ARg4FJIvKAU1vmtC8enLaZVkaRbR7aKRM3l2irD7w6_sxtYvFjK_Xydz7aOeKQ_iz5vp2WjXV483ZPnAj_jcZmtfjre9AiP3i76YoOALe5O7Gi5a81htB3srP3m2SiTHJUwsxkTH1.C_GYbJWZmJX5BmFL.pbAspo4JLllP4dA7cfa9E063Cubd_HXX3UJNRbiLACF4A6EUhAHTrcBIM3P2r70cJ4uIVHAu89AmG7fBcnwwUyXTf.1TnKbFiXmR9Ct.vjD3bKxsrh6m4NwRDrA4ZF9sQFa9wW2dK7F4Z51PHiw4WpZnCaqzWtwAntXNM1Mfd0Tr431HgUFKdFPT4w_CjgX_im8KEXuomY_ZUlbVFh01SdlyfON7tLpSn3okXjSzwH1NcW6U82KXB4Q0zzcvNlcUQczI1HjYehJ4Js15swjh6g2w85eIn03CQ.WWTZTW8G2daUfVCGIG5v5yH.lAy.DQc3O3QsD8QJ4IS7oHe8zor5IMznNjwFCJgA.YoN.UnSBpGHB.acvTu4ffSvrJ1LS48mZj_j2zQvLI9I2rk6L7keA_jEP4JN_wh8I.KFpKL0rGilUJnGwyuDiH94qplYEIODRSWzY5AtOuSHUXutefpyql80SMtfY3KBWn0NLLhglY4EzYyOG6lsGVkDiUOuZOk2BjsT8b2q35v.rHyu71B8qsrDSC8P.gGbDC2W5iHxdGVc_JtaVonpDu09QOHbOhjvr2edch3z2h61ui9eDinOkBC0znKzEXSPcKN6SzxDg7BdefTQD.vOXyCHGUX37gQqDKfg4XYe5510mgrn.TU_kkfxZP4.FdY8KsMI9_Krb73gCpd9MxVh.Y7KT1qk5D16Fe.7vsyzBSLFNbExuXdn5nTrhtQ..u1F58ebG5vXrZdrvF_vomWg58XJZV4uE5JFDIx5aYyqfwZJtEsuGNyT5QvDb8yAYASxrG.qXC4bKL1Qx6OwO8ybnU.CD87bd2mhNEAWphBeMtd7P7oe4I4_sJq30SOqa0i2JeJpX4jVL8F27Y6T0dsbz67Z.j7uvB771Qs8S7Q0RqzlutqmbfJcK6jOoM01l0MxBrxb.nt32Ne1Eodp6LeACXzs3R8nOPXQE5wPnnx2TqlAe6P6344moEFU_iGjTsMojuI2xc8iGWjW0G1il2I3D0B87IXda04tQNOcB0H6SYvJEK0BeMSWoq3MsjErzRTtC9BFL3dwy0ZtfYtrPqazarDcryPiRWeaSLXx6HwpbjFuGwbcEWiHDvLQ5BcvQCIIQ7GkEsc52t1j3chgl5YMtHYAhgWxsaXsXblPhK36op3Y5qgcn_6EN8ycAxjeyXU97svceW7T.UdU2aFa4rV0HXmvc2P.EJl4XLBK0.JoLV8_MZywO5nLuaVj8ydsjAzHfo7bwadq1CZ7SQHLjsFfCc9sUIHIKN.xwBj3J0LoDfyMy95E3K8gt4.75ElScTtrCCSUdQKx6JIU2hxo9TB9RZMlNQI8BvBgLHYepbqFoFTkJldt9YUz9w\",mdrd: \"irKQSc7VW_xB3M_9tuZ88LbsYvaqOfNi5hMr9u0SzTM-1728978198-1.1.1.1-X9COvKdbXT2.0Twnc9e0kKloCyU4EdDz4AgOf9lNoS0b7oNrlfd65giRpU5WibYdNEFtLXRnDt8jyAqQivKP.Y0LyttYYUm8w5bXXnwfZGdIpw9e7ej_UKcuH6M.XG.Ps6BSubc5kqIsm.gcG0BMz58FGbhh2KSkxjdQ0Yp.qnLvANvRczoCFfVRwjgjJe_cYIUVmW2026U_t04lC0JVyTQxMI8ZlmYHpv_qTUBt1nOAdlIfEEy8JKKYwUFuaOejrB8zNakCC1dfA98QSk0i1baTD2UJeQ7RLvo3aWjjbEJEc7CzMSYmCCPajQk6i96O9wDagep_2Mjw1nabSpLbDESCxSyJcyPl_1Y8ve36qd7HwHbdePfcvMB86uKWpuvMwdGT2lwIWbFwYcMS6GI_xdTegPN1FMZ53op7gzej.wi34an0TBVQHSrgK_etbr25XCAVRRWsEOCsLt__rV.fo0e1AA12rhB_DEVYVT1MxKFK2i1jVKMq.ikObKE1k2h0tT1dcKdTwaVkpkMoV.QqME5IokQfEsnpMX_hN.XIIcnBPLv5YLO316NMYdW4EKaD.NcyL0YkkK5zKgzujK9dlZGRCEzJs8zp4F5ixflB.x9WS3U2KxPyUiPa0Jh6PwftvzeSaN5HDo8OhP10kRCiptB6n.TSpfCJxjBtUCDnv6PmJwR5388w2Diqz2wknD4ySCz0cmZeOdpUgSNmqkG1wVbu_51zNGFYEYUOQSEYf5b0O9BB6QI1H_IK3NmeyFGDxwJWgfaZ3FCaBr_GoCnKHmopDlbH.p7TSA5s3oKyqsESvJX5APBuFyJw.omZEvp0VUPpQfa_lgcsyzOkli86p7XjBDxUgOtl4bgEqzsQDGUw0sYC8LhRVvsj62s_uFmMXKOYQRHZQUtBe_5BEYx069g8VZ8bUX8uV_MeFyJ.Ep6ZPuP6Y2F7MNRWpACMzQjy4u_8uMqOdnFzFR0824.9ljNS0U4KmbDVM89ULqBLglwN8K32nGsreWufxDj3C98P_1iLTXXgGIXY6rkaztoXE8ObOBmyJLG9L33VmrELfZ8cblFZv73ORtPB5en57W7mbV.0uvJ8OpQHrKbCkpHUxnhG0Nc24dVi04kWBIqt5yWmm46Ea0b2xBtcXFqMB5NUZAfSAtsVR9OPxvh5NwNTPeb2iz2rhgyQGJg8epwgQDDqD2I3dIu6ErRj3Ye2Aute5ArpVK5Ut_1Ba7JsJdYiEzJ2u7BcMpUcBsErD9ikWtQfwvAndjAMUc2GpIWE4x8yjA3YhQGJ3k6baauHz4VFkP3VpN942oHiRq_SgBa89.fjbfiYNWMAWj3NxiNQiSAA3vePOiNHvC2iuVmAIHELZYzjToVbj000E_8tNfLKY1nzx.CyU5_Zuh5XNSaJVLvBuDFTW3XWHc_1AGk7I6UerHoxoni7o4UEOLkD6qOQqUf30m3t12zDJIUaHvE0VOgxKLwt2Q1cUXFnBwufz2i7MsNKeT1syIHc2XQDaWFaMpde3.iKbKVj.VNxRvxj5A5UCXUStxk8.cX.m0NA.FR5z2tn98maec11YhiXEaOsk1LPXEts0t2yv.XSCD6Jm5RKYX6ZPPh4IxpkeJulKUK1kqAmk29GYl6cWB0SiksWJPHpffScyaLtjJUjlj1_fLRZWxfiGad5vYq_5_mzo8cpG90NrvxS05UER2pKOGsZq.i8dtCnpiAN46WikoSlQg3_rnKcO6fvUPlCrMB1lTSAXByH0vTnAoHORLm5h1z1sTLZzdC.sDZzEJVQIM1iNzJ_ILyt_uzoTsCUcgE0FIZCfEMPAa7VPnbdQfCNe.0PlBRI5uJpt9WNHpef3CrsJPxYEmB1bXb47I4g8TbmIJty13bjBglUx_9WB1WnNPMJRk9BOyxvD0zPNNl44AOgu4k08JhcjC7bRa2T72NjX5Q5goPTO5gRHSi55pquSBbvI1v_QxyOl4p.60MSXBq1OMn1XNIx6aHkbdnA2hmqp3ioh0.RhgP6Xb6C43I0lcgHuKnz_I2TQezuFfdFlKv4aJN7.jQtCr7efAudC8fT3fNl8Zf3_lUcsEIsbYW4MAXuRnRkyAh_zCx58QpvZ.UpFMvsRjKCkvwVdfL27.QWbMC3.CgJy6ya15AY7UHqsgBXnQEcYesABqhTT.jUd7bJ4pcP\",cRq: {ru: 'aHR0cHM6Ly9yZW1vdGVvay5jb20=',ra: 'cHl0aG9uLXJlcXVlc3RzLzIuMzIuMw==',d: 'e4Bk6mkzNakz8ItdVMUQwvqzR1UX1HahTcwxbKIQ9DbzTrSO/ccOHRxJwx2jhTIy+z9fYctmDzwAQusz6FUKiJ195pTMQZaYSx/UxoDSx0PehctewyHHI/OspseboNYvhi780VPKoNY3l5YWTGjj+qhwEoRs7AcaMvpC6IcRan0qLb0ZzxGzuWqdbX723xVuYrQ/qKmEunscmQjb2Lsw2YX/Mn+UcZYwRmEcFMfaldIllFgLrOjzTk7sP5DGmWJ2z74NsMZjs1fCd2ISuv85y16qgdtyUO+DNvKynnom6aMuSFVmR7O6gWD3WMJTEQ6MMRZHhmfrt4UtuIJkQJ/QSnWrBVvELePwOV5YUsira6NGElg4FDuDS8EiT+ZLejxx8+dYQLdNhEEDZyXRnDCR3PpRLT7uaL2RIDnObd3LjAY3UIFdWtY1xezlOcIkoSnRu9qlnNOm4KPdii2mNkOTyQTXkruEn2754P+Rs9zCAS7B2dAXfzTUhxTReZw5JDoS',t: 'MTcyODk3ODE5OC4wMDAwMDA=',cT: Math.floor(Date.now() / 1000),m: 'yBegCbwkv0KA0acDEmIiZTJnKQdvz4iBUKMfD2VNjVA=',i1: 'pxdv0MX6BPwPOCdF8lAi4Q==',i2: 'I2f6IMkqdZHGyiQePwGSKw==',zh: '5Rd9BcbljS9PGoumnoqQX284TxqkO3k5bl8IwRVXIDs=',uh: 'CiATXs0R4tTCmAZrIKJMI0mbciEXZbJB6weC9NLv1LY=',hh: 'xxGJbo1tN59Q03Q7RkfM0zSwWzmudMWxl1NILdEAU9k=',}};var cpo = document.createElement('script');cpo.src = '/cdn-cgi/challenge-platform/h/b/orchestrate/chl_page/v1?ray=8d2e2d6a5cdcc449';window._cf_chl_opt.cOgUHash = location.hash === '' && location.href.indexOf('#') !== -1 ? '#' : location.hash;window._cf_chl_opt.cOgUQuery = location.search === '' && location.href.slice(0, location.href.length - window._cf_chl_opt.cOgUHash.length).indexOf('?') !== -1 ? '?' : location.search;if (window.history && window.history.replaceState) {var ogU = location.pathname + window._cf_chl_opt.cOgUQuery + window._cf_chl_opt.cOgUHash;history.replaceState(null, null, \"\\/?__cf_chl_rt_tk=zFseDO27BN7kyRR2baKkqHkLfdpzevYFxAZAaO6ITIE-1728978198-1.0.1.1-r_X1BgkK9DFuLjMiyuZ8W2UySuB0v6GgLwOfzp7HSyg\" + window._cf_chl_opt.cOgUHash);cpo.onload = function() {history.replaceState(null, null, ogU);}}document.getElementsByTagName('head')[0].appendChild(cpo);}());</script></body></html>\n"
     ]
    }
   ],
   "source": [
    "import requests as rq\n",
    "from bs4 import BeautifulSoup as bs\n",
    "\n",
    "# @staticmethod\n",
    "\n",
    "url = \"https://remoteok.com/\"\n",
    "\n",
    "response = rq.get(url)\n",
    "# headers={\"User-Agent\" : \"Mozilla/5.0 (Windows NT 10.0; Win64; x64) AppleWebKit/537.36 (KHTML, like Gecko) Chrome/129.0.0.0 Safari/537.36\"}\n",
    "soup = bs(response.content, \"html.parser\")\n",
    "\n",
    "# search_keywords = soup.find(\"div\", class_=\"search-filter-results\")\n",
    "\n",
    "print(response)\n",
    "print(soup)"
   ]
  },
  {
   "cell_type": "code",
   "execution_count": null,
   "metadata": {},
   "outputs": [],
   "source": [
    "1019, 1021"
   ]
  }
 ],
 "metadata": {
  "kernelspec": {
   "display_name": "course",
   "language": "python",
   "name": "python3"
  },
  "language_info": {
   "codemirror_mode": {
    "name": "ipython",
    "version": 3
   },
   "file_extension": ".py",
   "mimetype": "text/x-python",
   "name": "python",
   "nbconvert_exporter": "python",
   "pygments_lexer": "ipython3",
   "version": "3.12.7"
  }
 },
 "nbformat": 4,
 "nbformat_minor": 2
}
